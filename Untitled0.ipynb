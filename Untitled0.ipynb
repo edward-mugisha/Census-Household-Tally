{
  "nbformat": 4,
  "nbformat_minor": 0,
  "metadata": {
    "colab": {
      "provenance": [],
      "authorship_tag": "ABX9TyOsaOxyZU3tmGRviybKkpQ9",
      "include_colab_link": true
    },
    "kernelspec": {
      "name": "python3",
      "display_name": "Python 3"
    },
    "language_info": {
      "name": "python"
    }
  },
  "cells": [
    {
      "cell_type": "markdown",
      "metadata": {
        "id": "view-in-github",
        "colab_type": "text"
      },
      "source": [
        "<a href=\"https://colab.research.google.com/github/edward-mugisha/Census-Household-Tally/blob/main/Untitled0.ipynb\" target=\"_parent\"><img src=\"https://colab.research.google.com/assets/colab-badge.svg\" alt=\"Open In Colab\"/></a>"
      ]
    },
    {
      "cell_type": "code",
      "execution_count": null,
      "metadata": {
        "id": "2A7I6lXXxeA9"
      },
      "outputs": [],
      "source": [
        "def compute_stats(values: List[int]) -> Dict[str, Optional[float]]:\n",
        "\"\"\"Compute total, average, min and max for a list of integer household counts.\n",
        "\n",
        "\n",
        "Returns a dict with keys: total, average, min, max.\n",
        "\"\"\"\n",
        "cleaned = [int(v) for v in values if v is not None]\n",
        "if not cleaned:\n",
        "return {\"total\": 0, \"average\": 0.0, \"min\": None, \"max\": None}\n",
        "\n",
        "\n",
        "total = sum(cleaned)\n",
        "average = total / len(cleaned)\n",
        "return {\"total\": total, \"average\": average, \"min\": min(cleaned), \"max\": max(cleaned)}"
      ]
    }
  ]
}